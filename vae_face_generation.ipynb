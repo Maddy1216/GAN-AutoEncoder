{
  "cells": [
    {
      "cell_type": "markdown",
      "source": [
        ""
      ],
      "metadata": {
        "id": "eiCYC6oHS_7c"
      }
    },
    {
      "cell_type": "markdown",
      "source": [
        "## Importing CelebDataset from Kaggle\n",
        "\n",
        "in uploading section uploading .json API file dowloaded from kaggle personal account\n",
        "\n"
      ],
      "metadata": {
        "id": "k0mdUl8HS_lZ"
      }
    },
    {
      "cell_type": "code",
      "execution_count": null,
      "metadata": {
        "colab": {
          "base_uri": "https://localhost:8080/",
          "height": 91,
          "resources": {
            "http://localhost:8080/nbextensions/google.colab/files.js": {
              "data": "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",
              "headers": [
                [
                  "content-type",
                  "application/javascript"
                ]
              ],
              "ok": true,
              "status": 200,
              "status_text": ""
            }
          }
        },
        "id": "qaEIeeEVzoJe",
        "outputId": "80291982-e3ed-46ef-db31-8a7324736368"
      },
      "outputs": [
        {
          "data": {
            "text/html": [
              "\n",
              "     <input type=\"file\" id=\"files-294b451b-e34d-4b2b-9895-49c07bb7bd44\" name=\"files[]\" multiple disabled\n",
              "        style=\"border:none\" />\n",
              "     <output id=\"result-294b451b-e34d-4b2b-9895-49c07bb7bd44\">\n",
              "      Upload widget is only available when the cell has been executed in the\n",
              "      current browser session. Please rerun this cell to enable.\n",
              "      </output>\n",
              "      <script src=\"/nbextensions/google.colab/files.js\"></script> "
            ],
            "text/plain": [
              "<IPython.core.display.HTML object>"
            ]
          },
          "metadata": {},
          "output_type": "display_data"
        },
        {
          "name": "stdout",
          "output_type": "stream",
          "text": [
            "Saving kaggle.json to kaggle.json\n"
          ]
        },
        {
          "data": {
            "text/plain": [
              "{'kaggle.json': b'{\"username\":\"manindersingh12\",\"key\":\"c00d1bfcc3698b9650b93e98b9809900\"}'}"
            ]
          },
          "execution_count": 4,
          "metadata": {},
          "output_type": "execute_result"
        }
      ],
      "source": [
        "!pip install -q kaggle\n",
        "from google.colab import files\n",
        "files.upload()"
      ]
    },
    {
      "cell_type": "code",
      "execution_count": null,
      "metadata": {
        "id": "zk9otIrx04je"
      },
      "outputs": [],
      "source": [
        "!mkdir -p ~/.kaggle\n",
        "!cp kaggle.json ~/.kaggle/\n",
        "!chmod 600 /root/.kaggle/kaggle.json"
      ]
    },
    {
      "cell_type": "code",
      "execution_count": null,
      "metadata": {
        "colab": {
          "background_save": true
        },
        "id": "U1lBjDh132hK"
      },
      "outputs": [],
      "source": [
        "!kaggle datasets download jessicali9530/celeba-dataset\n",
        "!unzip -d dataset celeba-dataset.zip"
      ]
    },
    {
      "cell_type": "code",
      "execution_count": null,
      "metadata": {
        "colab": {
          "background_save": true,
          "base_uri": "https://localhost:8080/"
        },
        "id": "0UxPsawS36Vf",
        "outputId": "650c3766-87c9-4bfa-d5cf-01eabd03e12e"
      },
      "outputs": [
        {
          "data": {
            "text/plain": [
              "False"
            ]
          },
          "execution_count": null,
          "metadata": {},
          "output_type": "execute_result"
        }
      ],
      "source": [
        "#Importing necessary files\n",
        "#note: eager execution command is necessary as it was showing some error in my runtime\n",
        "\n",
        "import numpy as np\n",
        "import os\n",
        "import tensorflow as tf; tf.compat.v1.disable_eager_execution()  #importAnt for executing VAE\n",
        "from tensorflow.keras.layers import Input,Dense,Flatten,Lambda,Reshape,Conv2D,Conv2DTranspose,LeakyReLU,Activation\n",
        "from tensorflow.keras import backend as K\n",
        "from tensorflow.keras.models import Model\n",
        "from tensorflow.keras.losses import binary_crossentropy\n",
        "from keras.datasets import mnist\n",
        "import matplotlib.pyplot as plt\n",
        "from keras.preprocessing.image import ImageDataGenerator\n",
        "from tensorflow.keras.losses import binary_crossentropy\n",
        "from tensorflow.keras.optimizers import Adam\n",
        "import warnings\n",
        "\n",
        "warnings.filterwarnings(\"ignore\")\n",
        "np.random.seed(25)  \n",
        "tf.executing_eagerly()"
      ]
    },
    {
      "cell_type": "code",
      "execution_count": null,
      "metadata": {
        "colab": {
          "background_save": true
        },
        "id": "IaNgVP4J4qO6",
        "outputId": "961930c4-d8d1-494e-9564-3e781d9c9e5e"
      },
      "outputs": [
        {
          "data": {
            "text/plain": [
              "(178, 218)"
            ]
          },
          "execution_count": null,
          "metadata": {},
          "output_type": "execute_result"
        }
      ],
      "source": [
        "import PIL\n",
        "PIL.Image.open('/content/dataset/img_align_celeba/img_align_celeba/000002.jpg').size"
      ]
    },
    {
      "cell_type": "code",
      "execution_count": null,
      "metadata": {
        "colab": {
          "background_save": true
        },
        "id": "gDlRGvZf4ya6",
        "outputId": "ec431664-1ed7-462d-969d-dfdea7159713"
      },
      "outputs": [
        {
          "name": "stdout",
          "output_type": "stream",
          "text": [
            "Found 202599 files belonging to 1 classes.\n",
            "Using 101300 files for training.\n",
            "Found 202599 files belonging to 1 classes.\n",
            "Using 101299 files for validation.\n"
          ]
        }
      ],
      "source": [
        "import tensorflow as tf\n",
        "import keras\n",
        "dataset_directory = \"/content/dataset/img_align_celeba/img_align_celeba\"\n",
        "\n",
        "## inputing image dataset as such from folders\n",
        "# deviding into train and validation set accordingly which can be used to generate new images and test for reconstructed images\n",
        "\n",
        "train_ds = tf.keras.preprocessing.image_dataset_from_directory(\n",
        "    dataset_directory,\n",
        "    label_mode=None,\n",
        "    image_size=(128, 128),\n",
        "    batch_size=256,\n",
        "    validation_split=0.2,\n",
        "    subset=\"training\",\n",
        "    seed=232\n",
        "\n",
        ")\n",
        "# val_ds = tf.keras.preprocessing.image_dataset_from_directory(\n",
        "#     dataset_directory,\n",
        "#     label_mode=None,\n",
        "#     image_size=(128, 128),\n",
        "#     batch_size=32,\n",
        "#     validation_split=0.2,\n",
        "#     subset=\"validation\",\n",
        "#     seed=232\n",
        "\n",
        "# )\n",
        "\n",
        "\n",
        "train_ds = train_ds.map(lambda x: x / 255.0)\n",
        "\n"
      ]
    },
    {
      "cell_type": "code",
      "execution_count": null,
      "metadata": {
        "colab": {
          "background_save": true
        },
        "id": "STyCRsXC4_40"
      },
      "outputs": [],
      "source": [
        "AUTOTUNE = tf.data.AUTOTUNE\n",
        "\n",
        "train_ds = train_ds.cache().shuffle(1000).prefetch(buffer_size=AUTOTUNE)\n",
        "# val_ds = val_ds.cache().shuffle(1000).prefetch(buffer_size=AUTOTUNE)\n"
      ]
    },
    {
      "cell_type": "code",
      "execution_count": null,
      "metadata": {
        "colab": {
          "background_save": true
        },
        "id": "1KRWRN5T5Eio"
      },
      "outputs": [],
      "source": [
        "def parse_image(data):\n",
        "    img = tf.io.read_file(data_dir + \"/\"+ data)\n",
        "    img = tf.image.decode_jpeg(img, channels=3)\n",
        "    \n",
        "    shapes = tf.shape(img)\n",
        "    h, w = shapes[-3], shapes[-2]\n",
        "    small = tf.minimum(h, w)\n",
        "    \n",
        "    img = tf.image.convert_image_dtype(img, tf.float32) \n",
        "    img = tf.image.resize_with_crop_or_pad(img, small, small) \n",
        "    img = tf.image.resize(img, [image_size, image_size], antialias=True)\n",
        "    return img\n",
        "\n",
        "data_dir = '/content/dataset/img_align_celeba/img_align_celeba' \n",
        "data = os.listdir(data_dir)\n",
        "# image_size = 128\n",
        "# batch_size = 128\n",
        "# AUTOTUNE = tf.data.AUTOTUNE\n",
        "\n",
        "\n",
        "\n",
        "list_ds = tf.data.Dataset.from_tensor_slices(data)\n",
        "# images_ds = list_ds.map(parse_image, num_parallel_calls=AUTOTUNE)\n",
        "# images_ds = images_ds.cache().shuffle(len(data)).batch(batch_size).prefetch(buffer_size=AUTOTUNE)\n"
      ]
    },
    {
      "cell_type": "code",
      "execution_count": null,
      "metadata": {
        "colab": {
          "background_save": true
        },
        "id": "k7ak028j5Kin"
      },
      "outputs": [],
      "source": [
        "#CONSTRucting encoder\n",
        "image_width = 128\n",
        "image_height = 128\n",
        "channels = 3\n",
        "latent_space_dim = 200 # dimension of the latent space\n",
        "\n",
        "encoder_input = Input(shape=(image_height,image_width,channels),name='Enoder_Input')\n",
        "x = Conv2D(filters=32,kernel_size=3,strides=1,padding='same',\n",
        "                      name='EncoderConv1')(encoder_input)\n",
        "x = LeakyReLU(name='LeakyReLU_1')(x)\n",
        "x = Conv2D(filters=64,kernel_size=3,strides=2,padding='same',\n",
        "                      name='EncoderConv2')(x)\n",
        "x = LeakyReLU(name='LeakyReLU_2')(x)\n",
        "x = Conv2D(filters=64,kernel_size=3,strides=2,padding='same',\n",
        "                      name='EncoderConv3')(x)\n",
        "x = LeakyReLU(name='LeakyReLU_3')(x)\n",
        "x = Conv2D(filters=64,kernel_size=3,strides=1,padding='same',\n",
        "                      name='EncoderConv4')(x)\n",
        "x = LeakyReLU(name='LeakyReLU_4')(x)\n",
        "\n",
        "# Storing Shape before flattening as it will be usefull in case of encoder to \n",
        "# convert latent space input back to this dimension to perform further operations\n",
        "# of decoding\n",
        "shape_before_flattening = K.int_shape(x)[1:] \n",
        "x = Flatten()(x)\n",
        "\n",
        "######\n",
        "###### Instead Of directly Connecting it to output of latent space, Connecting \n",
        "## it to mu and sigma layer to perform certain operation\n",
        "\n",
        "## LATENT SPACE DIMENSION IS USED HERE\n",
        "mu = Dense(latent_space_dim)(x)\n",
        "sigma = Dense(latent_space_dim)(x)\n",
        "\n",
        "\n",
        "#Model that takes input image and gives relevant mu and sigma values\n",
        "encoder_mu_log_sigma = Model(encoder_input,(mu,sigma)) # Not a necessary step as such\n",
        "\n",
        "# Creating Function to be used in a model Throug LAMBDA LAYER\n",
        "def sampling(args):\n",
        "  mu, sigma = args\n",
        "  epsilon = K.random_normal(K.shape(mu),mean = 0.,stddev=1.0)\n",
        "  return mu + K.exp(sigma / 2) * epsilon\n",
        "\n",
        "encoder_output = Lambda(sampling,name='encoder_output')([mu,sigma])\n",
        "\n",
        "encoder = Model(encoder_input,encoder_output)"
      ]
    },
    {
      "cell_type": "code",
      "execution_count": null,
      "metadata": {
        "colab": {
          "background_save": true
        },
        "id": "PpNp6lDq5Mpl",
        "outputId": "d3228038-10db-4ed0-dcb7-29d8693b1255"
      },
      "outputs": [
        {
          "name": "stdout",
          "output_type": "stream",
          "text": [
            "Model: \"model_1\"\n",
            "__________________________________________________________________________________________________\n",
            " Layer (type)                   Output Shape         Param #     Connected to                     \n",
            "==================================================================================================\n",
            " Enoder_Input (InputLayer)      [(None, 128, 128, 3  0           []                               \n",
            "                                )]                                                                \n",
            "                                                                                                  \n",
            " EncoderConv1 (Conv2D)          (None, 128, 128, 32  896         ['Enoder_Input[0][0]']           \n",
            "                                )                                                                 \n",
            "                                                                                                  \n",
            " LeakyReLU_1 (LeakyReLU)        (None, 128, 128, 32  0           ['EncoderConv1[0][0]']           \n",
            "                                )                                                                 \n",
            "                                                                                                  \n",
            " EncoderConv2 (Conv2D)          (None, 64, 64, 64)   18496       ['LeakyReLU_1[0][0]']            \n",
            "                                                                                                  \n",
            " LeakyReLU_2 (LeakyReLU)        (None, 64, 64, 64)   0           ['EncoderConv2[0][0]']           \n",
            "                                                                                                  \n",
            " EncoderConv3 (Conv2D)          (None, 32, 32, 64)   36928       ['LeakyReLU_2[0][0]']            \n",
            "                                                                                                  \n",
            " LeakyReLU_3 (LeakyReLU)        (None, 32, 32, 64)   0           ['EncoderConv3[0][0]']           \n",
            "                                                                                                  \n",
            " EncoderConv4 (Conv2D)          (None, 32, 32, 64)   36928       ['LeakyReLU_3[0][0]']            \n",
            "                                                                                                  \n",
            " LeakyReLU_4 (LeakyReLU)        (None, 32, 32, 64)   0           ['EncoderConv4[0][0]']           \n",
            "                                                                                                  \n",
            " flatten (Flatten)              (None, 65536)        0           ['LeakyReLU_4[0][0]']            \n",
            "                                                                                                  \n",
            " dense (Dense)                  (None, 200)          13107400    ['flatten[0][0]']                \n",
            "                                                                                                  \n",
            " dense_1 (Dense)                (None, 200)          13107400    ['flatten[0][0]']                \n",
            "                                                                                                  \n",
            " encoder_output (Lambda)        (None, 200)          0           ['dense[0][0]',                  \n",
            "                                                                  'dense_1[0][0]']                \n",
            "                                                                                                  \n",
            "==================================================================================================\n",
            "Total params: 26,308,048\n",
            "Trainable params: 26,308,048\n",
            "Non-trainable params: 0\n",
            "__________________________________________________________________________________________________\n"
          ]
        }
      ],
      "source": [
        "encoder.summary()"
      ]
    },
    {
      "cell_type": "code",
      "execution_count": null,
      "metadata": {
        "colab": {
          "background_save": true
        },
        "id": "Q_CcUTlo5OFk"
      },
      "outputs": [],
      "source": [
        "\n",
        "decoder_input = Input(shape=(latent_space_dim,),name='decoder_input')\n",
        "\n",
        "x = Dense(np.prod(shape_before_flattening))(decoder_input)# np.prod() multiplies all th eelemnt to give same no. of nodes as encoder\n",
        "x = Reshape(shape_before_flattening)(x)\n",
        "x = Conv2DTranspose(filters=64,padding='same',kernel_size=3,strides=1\n",
        "                    ,name='ConveT_Decoder1')(x)\n",
        "x = LeakyReLU()(x)\n",
        "x = Conv2DTranspose(filters=64,padding='same',strides=2,kernel_size=3\n",
        "                    ,name='ConveT_Decoder2')(x)\n",
        "x = LeakyReLU()(x)\n",
        "x = Conv2DTranspose(filters=32,padding='same',strides=2,kernel_size=3\n",
        "                    ,name='ConveT_Decoder3')(x)\n",
        "x = LeakyReLU()(x)\n",
        "x = Conv2DTranspose(filters=1,padding='same',strides=1,\n",
        "                    kernel_size = 3,name='ConveT_decoder4')(x)\n",
        "Decoder_output = Activation('sigmoid')(x)\n",
        "\n",
        "decoder_model = Model(decoder_input,Decoder_output)\n",
        "\n"
      ]
    },
    {
      "cell_type": "code",
      "execution_count": null,
      "metadata": {
        "colab": {
          "background_save": true
        },
        "id": "YbnKb41B5SX-",
        "outputId": "9da998d3-e5dc-4025-ee41-f5c92564276a"
      },
      "outputs": [
        {
          "data": {
            "text/plain": [
              "(32, 32, 64)"
            ]
          },
          "execution_count": null,
          "metadata": {},
          "output_type": "execute_result"
        }
      ],
      "source": [
        "shape_before_flattening"
      ]
    },
    {
      "cell_type": "code",
      "execution_count": null,
      "metadata": {
        "colab": {
          "background_save": true
        },
        "id": "c_dKcDGH5T3S",
        "outputId": "bc741964-9f1f-41e1-b4bc-0c0593a703da"
      },
      "outputs": [
        {
          "data": {
            "text/plain": [
              "65536"
            ]
          },
          "execution_count": null,
          "metadata": {},
          "output_type": "execute_result"
        }
      ],
      "source": [
        "np.prod(shape_before_flattening)"
      ]
    },
    {
      "cell_type": "code",
      "execution_count": null,
      "metadata": {
        "colab": {
          "background_save": true
        },
        "id": "vpg2Zj615WDh",
        "outputId": "4e1e8620-f01e-4af7-ec38-062a65751a50"
      },
      "outputs": [
        {
          "name": "stdout",
          "output_type": "stream",
          "text": [
            "Model: \"model_2\"\n",
            "_________________________________________________________________\n",
            " Layer (type)                Output Shape              Param #   \n",
            "=================================================================\n",
            " decoder_input (InputLayer)  [(None, 200)]             0         \n",
            "                                                                 \n",
            " dense_2 (Dense)             (None, 65536)             13172736  \n",
            "                                                                 \n",
            " reshape (Reshape)           (None, 32, 32, 64)        0         \n",
            "                                                                 \n",
            " ConveT_Decoder1 (Conv2DTran  (None, 32, 32, 64)       36928     \n",
            " spose)                                                          \n",
            "                                                                 \n",
            " leaky_re_lu (LeakyReLU)     (None, 32, 32, 64)        0         \n",
            "                                                                 \n",
            " ConveT_Decoder2 (Conv2DTran  (None, 64, 64, 64)       36928     \n",
            " spose)                                                          \n",
            "                                                                 \n",
            " leaky_re_lu_1 (LeakyReLU)   (None, 64, 64, 64)        0         \n",
            "                                                                 \n",
            " ConveT_Decoder3 (Conv2DTran  (None, 128, 128, 32)     18464     \n",
            " spose)                                                          \n",
            "                                                                 \n",
            " leaky_re_lu_2 (LeakyReLU)   (None, 128, 128, 32)      0         \n",
            "                                                                 \n",
            " ConveT_decoder4 (Conv2DTran  (None, 128, 128, 1)      289       \n",
            " spose)                                                          \n",
            "                                                                 \n",
            " activation (Activation)     (None, 128, 128, 1)       0         \n",
            "                                                                 \n",
            "=================================================================\n",
            "Total params: 13,265,345\n",
            "Trainable params: 13,265,345\n",
            "Non-trainable params: 0\n",
            "_________________________________________________________________\n"
          ]
        }
      ],
      "source": [
        "decoder_model.summary()"
      ]
    },
    {
      "cell_type": "code",
      "execution_count": null,
      "metadata": {
        "colab": {
          "background_save": true
        },
        "id": "0csV02H95XHS",
        "outputId": "b4dab7ee-0882-4478-b6bf-e13b2e6e11b2"
      },
      "outputs": [
        {
          "name": "stdout",
          "output_type": "stream",
          "text": [
            "Model: \"model_3\"\n",
            "__________________________________________________________________________________________________\n",
            " Layer (type)                   Output Shape         Param #     Connected to                     \n",
            "==================================================================================================\n",
            " Enoder_Input (InputLayer)      [(None, 128, 128, 3  0           []                               \n",
            "                                )]                                                                \n",
            "                                                                                                  \n",
            " EncoderConv1 (Conv2D)          (None, 128, 128, 32  896         ['Enoder_Input[0][0]']           \n",
            "                                )                                                                 \n",
            "                                                                                                  \n",
            " LeakyReLU_1 (LeakyReLU)        (None, 128, 128, 32  0           ['EncoderConv1[0][0]']           \n",
            "                                )                                                                 \n",
            "                                                                                                  \n",
            " EncoderConv2 (Conv2D)          (None, 64, 64, 64)   18496       ['LeakyReLU_1[0][0]']            \n",
            "                                                                                                  \n",
            " LeakyReLU_2 (LeakyReLU)        (None, 64, 64, 64)   0           ['EncoderConv2[0][0]']           \n",
            "                                                                                                  \n",
            " EncoderConv3 (Conv2D)          (None, 32, 32, 64)   36928       ['LeakyReLU_2[0][0]']            \n",
            "                                                                                                  \n",
            " LeakyReLU_3 (LeakyReLU)        (None, 32, 32, 64)   0           ['EncoderConv3[0][0]']           \n",
            "                                                                                                  \n",
            " EncoderConv4 (Conv2D)          (None, 32, 32, 64)   36928       ['LeakyReLU_3[0][0]']            \n",
            "                                                                                                  \n",
            " LeakyReLU_4 (LeakyReLU)        (None, 32, 32, 64)   0           ['EncoderConv4[0][0]']           \n",
            "                                                                                                  \n",
            " flatten (Flatten)              (None, 65536)        0           ['LeakyReLU_4[0][0]']            \n",
            "                                                                                                  \n",
            " dense (Dense)                  (None, 200)          13107400    ['flatten[0][0]']                \n",
            "                                                                                                  \n",
            " dense_1 (Dense)                (None, 200)          13107400    ['flatten[0][0]']                \n",
            "                                                                                                  \n",
            " encoder_output (Lambda)        (None, 200)          0           ['dense[0][0]',                  \n",
            "                                                                  'dense_1[0][0]']                \n",
            "                                                                                                  \n",
            " model_2 (Functional)           (None, 128, 128, 1)  13265345    ['encoder_output[0][0]']         \n",
            "                                                                                                  \n",
            "==================================================================================================\n",
            "Total params: 39,573,393\n",
            "Trainable params: 39,573,393\n",
            "Non-trainable params: 0\n",
            "__________________________________________________________________________________________________\n"
          ]
        }
      ],
      "source": [
        "\n",
        "model_input = encoder_input  #taking encoder input as inpjut\n",
        "model_output = decoder_model(encoder_output)  # taking output from decoder model \n",
        "                                  # which takes output from encoder output as input\n",
        "model = Model(model_input,model_output)\n",
        "model.summary()"
      ]
    },
    {
      "cell_type": "markdown",
      "source": [
        "Creating loss fujnction"
      ],
      "metadata": {
        "id": "AbXrFFhiVaL8"
      }
    },
    {
      "cell_type": "code",
      "execution_count": null,
      "metadata": {
        "colab": {
          "background_save": true
        },
        "id": "b9x4_qPh5YfX"
      },
      "outputs": [],
      "source": [
        "\n",
        "def vae_r_loss(y_true, y_pred):\n",
        "  r_loss = K.mean(K.square(y_true - y_pred), axis = [1,2,3])\n",
        "  return 1000 * r_loss\n",
        "\n",
        "def vae_kl_loss(y_true, y_pred):\n",
        "  kl_loss =  -0.5 * K.sum(1 + sigma - K.square(mu) - K.exp(sigma), axis = 1)\n",
        "  return kl_loss\n",
        "\n",
        "def vae_loss(y_true, y_pred):\n",
        "  r_loss = vae_r_loss(y_true, y_pred)\n",
        "  kl_loss = vae_kl_loss(y_true, y_pred)\n",
        "  return  r_loss + kl_loss\n",
        "\n",
        "\n",
        "model.compile(optimizer='adam',loss = vae_loss,  metrics = [vae_r_loss, vae_kl_loss])"
      ]
    },
    {
      "cell_type": "code",
      "execution_count": null,
      "metadata": {
        "id": "ghuwdpbS5Z-f"
      },
      "outputs": [],
      "source": [
        "# training the model\n",
        "history = model.fit(train_ds,epochs=20)"
      ]
    },
    {
      "cell_type": "code",
      "execution_count": null,
      "metadata": {
        "id": "a4kBo9qW5bvL"
      },
      "outputs": [],
      "source": [
        "encoded = model.predict(val_ds)\n"
      ]
    },
    {
      "cell_type": "markdown",
      "source": [
        "# New image recreation\n",
        "\n",
        "This can be used to compare generated images also but here our goal is to Recreate new Images"
      ],
      "metadata": {
        "id": "Bk11VbbjWGDo"
      }
    },
    {
      "cell_type": "code",
      "source": [
        "n_to_show = 20\n",
        "z_new = np.random.normal(size=(n_to_show,latent_space_dim))\n",
        "\n",
        "reconstruction = decoder_model.predict(np.array(z_new))\n",
        "\n",
        "fig = plt.figure(figsize=(18,5))\n",
        "fig.subplots_adjust(hspace=0.4,wspace = 0.4)\n",
        "for i in range(n_to_show):\n",
        "  ax = fig.add_subplot(3,10,i+1)\n",
        "  ax.imshow(np.squeeze(reconstruction[i,:,:,:]))\n",
        "  ax.axis('off')"
      ],
      "metadata": {
        "id": "NWHh8X8HWV2U"
      },
      "execution_count": null,
      "outputs": []
    },
    {
      "cell_type": "markdown",
      "source": [
        "## One of the potential use of latent space conversion is that it is used to transform image features into vectors such as we can change few vectors to change the features of images such as adding sunglasses to image, adding or removing smile to image and many things more.\n",
        "\n",
        "\n",
        "---\n",
        "\n",
        "\n",
        "\n",
        "## we can also use VAE to morphing one image into another using formaula as below\n",
        "\n",
        "\n",
        "```\n",
        " z_new = z_A *(1-alpha) + z_B * alpha\n",
        "\n",
        "Here, alpha is a number between 0 and 1 that determines how far along the line we are away from point A\n",
        "\n",
        "```\n",
        "\n",
        "We takes two images, encoding them and than decoding poiints  from latent space in a straight line between these two points in regular interval thus obtaining smooth transition between images\n",
        "\n"
      ],
      "metadata": {
        "id": "3RkUIRvPXx1L"
      }
    },
    {
      "cell_type": "code",
      "source": [
        ""
      ],
      "metadata": {
        "id": "3lDoMtUEZUn-"
      },
      "execution_count": null,
      "outputs": []
    }
  ],
  "metadata": {
    "accelerator": "GPU",
    "colab": {
      "name": "vae face generation.ipynb",
      "provenance": [],
      "authorship_tag": "ABX9TyMDtvK4HCgXBmDMySD0WVeY"
    },
    "kernelspec": {
      "display_name": "Python 3",
      "name": "python3"
    },
    "language_info": {
      "name": "python"
    }
  },
  "nbformat": 4,
  "nbformat_minor": 0
}